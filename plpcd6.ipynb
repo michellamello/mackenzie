{
  "nbformat": 4,
  "nbformat_minor": 0,
  "metadata": {
    "colab": {
      "provenance": [],
      "authorship_tag": "ABX9TyMzboCYcBTu918/d3Udrj9Y",
      "include_colab_link": true
    },
    "kernelspec": {
      "name": "ir",
      "display_name": "R"
    },
    "language_info": {
      "name": "R"
    }
  },
  "cells": [
    {
      "cell_type": "markdown",
      "metadata": {
        "id": "view-in-github",
        "colab_type": "text"
      },
      "source": [
        "<a href=\"https://colab.research.google.com/github/michellamello/mackenzie/blob/main/plpcd6.ipynb\" target=\"_parent\"><img src=\"https://colab.research.google.com/assets/colab-badge.svg\" alt=\"Open In Colab\"/></a>"
      ]
    },
    {
      "cell_type": "markdown",
      "source": [
        "#Importa bibliotecas necessárias"
      ],
      "metadata": {
        "id": "kiUzZFXDqmlG"
      }
    },
    {
      "cell_type": "code",
      "execution_count": null,
      "metadata": {
        "id": "ks5X_2IgoJVr"
      },
      "outputs": [],
      "source": [
        "library(tidyverse) # Collection of all the good stuff like dplyr, ggplot2 ect.\n",
        "library(devtools)\n",
        "library(dplyr)"
      ]
    },
    {
      "cell_type": "markdown",
      "source": [
        "#Realiza a leitura da fonte de dados CSV"
      ],
      "metadata": {
        "id": "zMgbbBpiqsd0"
      }
    },
    {
      "cell_type": "code",
      "source": [
        "voos2008 = read.csv(\"2008.csv\")\n",
        "\n",
        "head(voos2008)"
      ],
      "metadata": {
        "colab": {
          "base_uri": "https://localhost:8080/",
          "height": 306
        },
        "id": "h3hgZQMnql8V",
        "outputId": "c6535804-df59-4660-b704-443ab3e16dfa"
      },
      "execution_count": null,
      "outputs": [
        {
          "output_type": "display_data",
          "data": {
            "text/html": [
              "<table class=\"dataframe\">\n",
              "<caption>A data.frame: 6 × 29</caption>\n",
              "<thead>\n",
              "\t<tr><th></th><th scope=col>Year</th><th scope=col>Month</th><th scope=col>DayofMonth</th><th scope=col>DayOfWeek</th><th scope=col>DepTime</th><th scope=col>CRSDepTime</th><th scope=col>ArrTime</th><th scope=col>CRSArrTime</th><th scope=col>UniqueCarrier</th><th scope=col>FlightNum</th><th scope=col>⋯</th><th scope=col>TaxiIn</th><th scope=col>TaxiOut</th><th scope=col>Cancelled</th><th scope=col>CancellationCode</th><th scope=col>Diverted</th><th scope=col>CarrierDelay</th><th scope=col>WeatherDelay</th><th scope=col>NASDelay</th><th scope=col>SecurityDelay</th><th scope=col>LateAircraftDelay</th></tr>\n",
              "\t<tr><th></th><th scope=col>&lt;int&gt;</th><th scope=col>&lt;int&gt;</th><th scope=col>&lt;int&gt;</th><th scope=col>&lt;int&gt;</th><th scope=col>&lt;int&gt;</th><th scope=col>&lt;int&gt;</th><th scope=col>&lt;int&gt;</th><th scope=col>&lt;int&gt;</th><th scope=col>&lt;chr&gt;</th><th scope=col>&lt;int&gt;</th><th scope=col>⋯</th><th scope=col>&lt;int&gt;</th><th scope=col>&lt;int&gt;</th><th scope=col>&lt;int&gt;</th><th scope=col>&lt;chr&gt;</th><th scope=col>&lt;int&gt;</th><th scope=col>&lt;int&gt;</th><th scope=col>&lt;int&gt;</th><th scope=col>&lt;int&gt;</th><th scope=col>&lt;int&gt;</th><th scope=col>&lt;int&gt;</th></tr>\n",
              "</thead>\n",
              "<tbody>\n",
              "\t<tr><th scope=row>1</th><td>2008</td><td>1</td><td>3</td><td>4</td><td>1343</td><td>1325</td><td>1451</td><td>1435</td><td>WN</td><td> 588</td><td>⋯</td><td> 4</td><td> 9</td><td>0</td><td></td><td>0</td><td>16</td><td> 0</td><td> 0</td><td> 0</td><td> 0</td></tr>\n",
              "\t<tr><th scope=row>2</th><td>2008</td><td>1</td><td>3</td><td>4</td><td>1125</td><td>1120</td><td>1247</td><td>1245</td><td>WN</td><td>1343</td><td>⋯</td><td> 3</td><td> 8</td><td>0</td><td></td><td>0</td><td>NA</td><td>NA</td><td>NA</td><td>NA</td><td>NA</td></tr>\n",
              "\t<tr><th scope=row>3</th><td>2008</td><td>1</td><td>3</td><td>4</td><td>2009</td><td>2015</td><td>2136</td><td>2140</td><td>WN</td><td>3841</td><td>⋯</td><td> 2</td><td>14</td><td>0</td><td></td><td>0</td><td>NA</td><td>NA</td><td>NA</td><td>NA</td><td>NA</td></tr>\n",
              "\t<tr><th scope=row>4</th><td>2008</td><td>1</td><td>3</td><td>4</td><td> 903</td><td> 855</td><td>1203</td><td>1205</td><td>WN</td><td>   3</td><td>⋯</td><td> 5</td><td> 7</td><td>0</td><td></td><td>0</td><td>NA</td><td>NA</td><td>NA</td><td>NA</td><td>NA</td></tr>\n",
              "\t<tr><th scope=row>5</th><td>2008</td><td>1</td><td>3</td><td>4</td><td>1423</td><td>1400</td><td>1726</td><td>1710</td><td>WN</td><td>  25</td><td>⋯</td><td> 6</td><td>10</td><td>0</td><td></td><td>0</td><td>16</td><td> 0</td><td> 0</td><td> 0</td><td> 0</td></tr>\n",
              "\t<tr><th scope=row>6</th><td>2008</td><td>1</td><td>3</td><td>4</td><td>2024</td><td>2020</td><td>2325</td><td>2325</td><td>WN</td><td>  51</td><td>⋯</td><td>13</td><td> 7</td><td>0</td><td></td><td>0</td><td>NA</td><td>NA</td><td>NA</td><td>NA</td><td>NA</td></tr>\n",
              "</tbody>\n",
              "</table>\n"
            ],
            "text/markdown": "\nA data.frame: 6 × 29\n\n| <!--/--> | Year &lt;int&gt; | Month &lt;int&gt; | DayofMonth &lt;int&gt; | DayOfWeek &lt;int&gt; | DepTime &lt;int&gt; | CRSDepTime &lt;int&gt; | ArrTime &lt;int&gt; | CRSArrTime &lt;int&gt; | UniqueCarrier &lt;chr&gt; | FlightNum &lt;int&gt; | ⋯ ⋯ | TaxiIn &lt;int&gt; | TaxiOut &lt;int&gt; | Cancelled &lt;int&gt; | CancellationCode &lt;chr&gt; | Diverted &lt;int&gt; | CarrierDelay &lt;int&gt; | WeatherDelay &lt;int&gt; | NASDelay &lt;int&gt; | SecurityDelay &lt;int&gt; | LateAircraftDelay &lt;int&gt; |\n|---|---|---|---|---|---|---|---|---|---|---|---|---|---|---|---|---|---|---|---|---|---|\n| 1 | 2008 | 1 | 3 | 4 | 1343 | 1325 | 1451 | 1435 | WN |  588 | ⋯ |  4 |  9 | 0 | <!----> | 0 | 16 |  0 |  0 |  0 |  0 |\n| 2 | 2008 | 1 | 3 | 4 | 1125 | 1120 | 1247 | 1245 | WN | 1343 | ⋯ |  3 |  8 | 0 | <!----> | 0 | NA | NA | NA | NA | NA |\n| 3 | 2008 | 1 | 3 | 4 | 2009 | 2015 | 2136 | 2140 | WN | 3841 | ⋯ |  2 | 14 | 0 | <!----> | 0 | NA | NA | NA | NA | NA |\n| 4 | 2008 | 1 | 3 | 4 |  903 |  855 | 1203 | 1205 | WN |    3 | ⋯ |  5 |  7 | 0 | <!----> | 0 | NA | NA | NA | NA | NA |\n| 5 | 2008 | 1 | 3 | 4 | 1423 | 1400 | 1726 | 1710 | WN |   25 | ⋯ |  6 | 10 | 0 | <!----> | 0 | 16 |  0 |  0 |  0 |  0 |\n| 6 | 2008 | 1 | 3 | 4 | 2024 | 2020 | 2325 | 2325 | WN |   51 | ⋯ | 13 |  7 | 0 | <!----> | 0 | NA | NA | NA | NA | NA |\n\n",
            "text/latex": "A data.frame: 6 × 29\n\\begin{tabular}{r|lllllllllllllllllllll}\n  & Year & Month & DayofMonth & DayOfWeek & DepTime & CRSDepTime & ArrTime & CRSArrTime & UniqueCarrier & FlightNum & ⋯ & TaxiIn & TaxiOut & Cancelled & CancellationCode & Diverted & CarrierDelay & WeatherDelay & NASDelay & SecurityDelay & LateAircraftDelay\\\\\n  & <int> & <int> & <int> & <int> & <int> & <int> & <int> & <int> & <chr> & <int> & ⋯ & <int> & <int> & <int> & <chr> & <int> & <int> & <int> & <int> & <int> & <int>\\\\\n\\hline\n\t1 & 2008 & 1 & 3 & 4 & 1343 & 1325 & 1451 & 1435 & WN &  588 & ⋯ &  4 &  9 & 0 &  & 0 & 16 &  0 &  0 &  0 &  0\\\\\n\t2 & 2008 & 1 & 3 & 4 & 1125 & 1120 & 1247 & 1245 & WN & 1343 & ⋯ &  3 &  8 & 0 &  & 0 & NA & NA & NA & NA & NA\\\\\n\t3 & 2008 & 1 & 3 & 4 & 2009 & 2015 & 2136 & 2140 & WN & 3841 & ⋯ &  2 & 14 & 0 &  & 0 & NA & NA & NA & NA & NA\\\\\n\t4 & 2008 & 1 & 3 & 4 &  903 &  855 & 1203 & 1205 & WN &    3 & ⋯ &  5 &  7 & 0 &  & 0 & NA & NA & NA & NA & NA\\\\\n\t5 & 2008 & 1 & 3 & 4 & 1423 & 1400 & 1726 & 1710 & WN &   25 & ⋯ &  6 & 10 & 0 &  & 0 & 16 &  0 &  0 &  0 &  0\\\\\n\t6 & 2008 & 1 & 3 & 4 & 2024 & 2020 & 2325 & 2325 & WN &   51 & ⋯ & 13 &  7 & 0 &  & 0 & NA & NA & NA & NA & NA\\\\\n\\end{tabular}\n",
            "text/plain": [
              "  Year Month DayofMonth DayOfWeek DepTime CRSDepTime ArrTime CRSArrTime\n",
              "1 2008 1     3          4         1343    1325       1451    1435      \n",
              "2 2008 1     3          4         1125    1120       1247    1245      \n",
              "3 2008 1     3          4         2009    2015       2136    2140      \n",
              "4 2008 1     3          4          903     855       1203    1205      \n",
              "5 2008 1     3          4         1423    1400       1726    1710      \n",
              "6 2008 1     3          4         2024    2020       2325    2325      \n",
              "  UniqueCarrier FlightNum ⋯ TaxiIn TaxiOut Cancelled CancellationCode Diverted\n",
              "1 WN             588      ⋯  4      9      0                          0       \n",
              "2 WN            1343      ⋯  3      8      0                          0       \n",
              "3 WN            3841      ⋯  2     14      0                          0       \n",
              "4 WN               3      ⋯  5      7      0                          0       \n",
              "5 WN              25      ⋯  6     10      0                          0       \n",
              "6 WN              51      ⋯ 13      7      0                          0       \n",
              "  CarrierDelay WeatherDelay NASDelay SecurityDelay LateAircraftDelay\n",
              "1 16            0            0        0             0               \n",
              "2 NA           NA           NA       NA            NA               \n",
              "3 NA           NA           NA       NA            NA               \n",
              "4 NA           NA           NA       NA            NA               \n",
              "5 16            0            0        0             0               \n",
              "6 NA           NA           NA       NA            NA               "
            ]
          },
          "metadata": {}
        }
      ]
    },
    {
      "cell_type": "markdown",
      "source": [
        "#Seleciona apenas colunas necessárias para a apresentação do resultado"
      ],
      "metadata": {
        "id": "_SGXset90GMB"
      }
    },
    {
      "cell_type": "code",
      "source": [
        "novoDataset = voos2008 %>%\n",
        "select(Year,Month,DayofMonth,DepTime,DepDelay,ArrDelay,Cancelled)\n",
        "\n",
        "str(novoDataset)\n",
        "head(novoDataset)"
      ],
      "metadata": {
        "colab": {
          "base_uri": "https://localhost:8080/",
          "height": 425
        },
        "id": "cSvgQTJMyF-9",
        "outputId": "537c3a76-0575-4b90-e863-1d045262cbc3"
      },
      "execution_count": null,
      "outputs": [
        {
          "output_type": "stream",
          "name": "stdout",
          "text": [
            "'data.frame':\t1906825 obs. of  7 variables:\n",
            " $ Year      : int  2008 2008 2008 2008 2008 2008 2008 2008 2008 2008 ...\n",
            " $ Month     : int  1 1 1 1 1 1 1 1 1 1 ...\n",
            " $ DayofMonth: int  3 3 3 3 3 3 3 3 3 3 ...\n",
            " $ DepTime   : int  1343 1125 2009 903 1423 2024 1753 622 1944 1453 ...\n",
            " $ DepDelay  : int  18 5 -6 8 23 4 8 2 -1 28 ...\n",
            " $ ArrDelay  : int  16 2 -4 -2 16 0 3 5 -5 26 ...\n",
            " $ Cancelled : int  0 0 0 0 0 0 0 0 0 0 ...\n"
          ]
        },
        {
          "output_type": "display_data",
          "data": {
            "text/html": [
              "<table class=\"dataframe\">\n",
              "<caption>A data.frame: 6 × 7</caption>\n",
              "<thead>\n",
              "\t<tr><th></th><th scope=col>Year</th><th scope=col>Month</th><th scope=col>DayofMonth</th><th scope=col>DepTime</th><th scope=col>DepDelay</th><th scope=col>ArrDelay</th><th scope=col>Cancelled</th></tr>\n",
              "\t<tr><th></th><th scope=col>&lt;int&gt;</th><th scope=col>&lt;int&gt;</th><th scope=col>&lt;int&gt;</th><th scope=col>&lt;int&gt;</th><th scope=col>&lt;int&gt;</th><th scope=col>&lt;int&gt;</th><th scope=col>&lt;int&gt;</th></tr>\n",
              "</thead>\n",
              "<tbody>\n",
              "\t<tr><th scope=row>1</th><td>2008</td><td>1</td><td>3</td><td>1343</td><td>18</td><td>16</td><td>0</td></tr>\n",
              "\t<tr><th scope=row>2</th><td>2008</td><td>1</td><td>3</td><td>1125</td><td> 5</td><td> 2</td><td>0</td></tr>\n",
              "\t<tr><th scope=row>3</th><td>2008</td><td>1</td><td>3</td><td>2009</td><td>-6</td><td>-4</td><td>0</td></tr>\n",
              "\t<tr><th scope=row>4</th><td>2008</td><td>1</td><td>3</td><td> 903</td><td> 8</td><td>-2</td><td>0</td></tr>\n",
              "\t<tr><th scope=row>5</th><td>2008</td><td>1</td><td>3</td><td>1423</td><td>23</td><td>16</td><td>0</td></tr>\n",
              "\t<tr><th scope=row>6</th><td>2008</td><td>1</td><td>3</td><td>2024</td><td> 4</td><td> 0</td><td>0</td></tr>\n",
              "</tbody>\n",
              "</table>\n"
            ],
            "text/markdown": "\nA data.frame: 6 × 7\n\n| <!--/--> | Year &lt;int&gt; | Month &lt;int&gt; | DayofMonth &lt;int&gt; | DepTime &lt;int&gt; | DepDelay &lt;int&gt; | ArrDelay &lt;int&gt; | Cancelled &lt;int&gt; |\n|---|---|---|---|---|---|---|---|\n| 1 | 2008 | 1 | 3 | 1343 | 18 | 16 | 0 |\n| 2 | 2008 | 1 | 3 | 1125 |  5 |  2 | 0 |\n| 3 | 2008 | 1 | 3 | 2009 | -6 | -4 | 0 |\n| 4 | 2008 | 1 | 3 |  903 |  8 | -2 | 0 |\n| 5 | 2008 | 1 | 3 | 1423 | 23 | 16 | 0 |\n| 6 | 2008 | 1 | 3 | 2024 |  4 |  0 | 0 |\n\n",
            "text/latex": "A data.frame: 6 × 7\n\\begin{tabular}{r|lllllll}\n  & Year & Month & DayofMonth & DepTime & DepDelay & ArrDelay & Cancelled\\\\\n  & <int> & <int> & <int> & <int> & <int> & <int> & <int>\\\\\n\\hline\n\t1 & 2008 & 1 & 3 & 1343 & 18 & 16 & 0\\\\\n\t2 & 2008 & 1 & 3 & 1125 &  5 &  2 & 0\\\\\n\t3 & 2008 & 1 & 3 & 2009 & -6 & -4 & 0\\\\\n\t4 & 2008 & 1 & 3 &  903 &  8 & -2 & 0\\\\\n\t5 & 2008 & 1 & 3 & 1423 & 23 & 16 & 0\\\\\n\t6 & 2008 & 1 & 3 & 2024 &  4 &  0 & 0\\\\\n\\end{tabular}\n",
            "text/plain": [
              "  Year Month DayofMonth DepTime DepDelay ArrDelay Cancelled\n",
              "1 2008 1     3          1343    18       16       0        \n",
              "2 2008 1     3          1125     5        2       0        \n",
              "3 2008 1     3          2009    -6       -4       0        \n",
              "4 2008 1     3           903     8       -2       0        \n",
              "5 2008 1     3          1423    23       16       0        \n",
              "6 2008 1     3          2024     4        0       0        "
            ]
          },
          "metadata": {}
        }
      ]
    },
    {
      "cell_type": "markdown",
      "source": [
        "#Agrupa os atrasos por mês, cria uma variável atrasoMedio e calcula a média mensal de atrasos para verificar o mês com menor quantidade de atrasos"
      ],
      "metadata": {
        "id": "9pymaXxR2JK4"
      }
    },
    {
      "cell_type": "code",
      "source": [
        "novoDataset %>%\n",
        "select(Month, DepDelay) %>%\n",
        "group_by(Month) %>%\n",
        "mutate(atrasoMedio = mean(DepDelay, na.rm = TRUE)) %>%\n",
        "select(Month, atrasoMedio) %>%\n",
        "unique() %>%\n",
        "\n",
        "arrange(atrasoMedio)"
      ],
      "metadata": {
        "colab": {
          "base_uri": "https://localhost:8080/",
          "height": 224
        },
        "id": "0kEicCqI1pI2",
        "outputId": "ffaadcb3-9518-4df8-86a5-689f4c75b17d"
      },
      "execution_count": null,
      "outputs": [
        {
          "output_type": "display_data",
          "data": {
            "text/html": [
              "<table class=\"dataframe\">\n",
              "<caption>A grouped_df: 4 × 2</caption>\n",
              "<thead>\n",
              "\t<tr><th scope=col>Month</th><th scope=col>atrasoMedio</th></tr>\n",
              "\t<tr><th scope=col>&lt;int&gt;</th><th scope=col>&lt;dbl&gt;</th></tr>\n",
              "</thead>\n",
              "<tbody>\n",
              "\t<tr><td>4</td><td> 7.78768</td></tr>\n",
              "\t<tr><td>1</td><td>11.47610</td></tr>\n",
              "\t<tr><td>3</td><td>12.49127</td></tr>\n",
              "\t<tr><td>2</td><td>13.70623</td></tr>\n",
              "</tbody>\n",
              "</table>\n"
            ],
            "text/markdown": "\nA grouped_df: 4 × 2\n\n| Month &lt;int&gt; | atrasoMedio &lt;dbl&gt; |\n|---|---|\n| 4 |  7.78768 |\n| 1 | 11.47610 |\n| 3 | 12.49127 |\n| 2 | 13.70623 |\n\n",
            "text/latex": "A grouped\\_df: 4 × 2\n\\begin{tabular}{ll}\n Month & atrasoMedio\\\\\n <int> & <dbl>\\\\\n\\hline\n\t 4 &  7.78768\\\\\n\t 1 & 11.47610\\\\\n\t 3 & 12.49127\\\\\n\t 2 & 13.70623\\\\\n\\end{tabular}\n",
            "text/plain": [
              "  Month atrasoMedio\n",
              "1 4      7.78768   \n",
              "2 1     11.47610   \n",
              "3 3     12.49127   \n",
              "4 2     13.70623   "
            ]
          },
          "metadata": {}
        }
      ]
    },
    {
      "cell_type": "markdown",
      "source": [
        "#Seleciona apenas origens e atrasos do dataframe original"
      ],
      "metadata": {
        "id": "oYitsfUa31Rz"
      }
    },
    {
      "cell_type": "code",
      "source": [
        "voos2008 %>%\n",
        "select(Origin, DepDelay) %>%\n",
        "head(10)"
      ],
      "metadata": {
        "colab": {
          "base_uri": "https://localhost:8080/",
          "height": 412
        },
        "id": "ya8sna5_3q3X",
        "outputId": "3e548fcd-5275-42be-b2b8-783a99701097"
      },
      "execution_count": null,
      "outputs": [
        {
          "output_type": "display_data",
          "data": {
            "text/html": [
              "<table class=\"dataframe\">\n",
              "<caption>A data.frame: 10 × 2</caption>\n",
              "<thead>\n",
              "\t<tr><th></th><th scope=col>Origin</th><th scope=col>DepDelay</th></tr>\n",
              "\t<tr><th></th><th scope=col>&lt;chr&gt;</th><th scope=col>&lt;int&gt;</th></tr>\n",
              "</thead>\n",
              "<tbody>\n",
              "\t<tr><th scope=row>1</th><td>HOU</td><td>18</td></tr>\n",
              "\t<tr><th scope=row>2</th><td>HOU</td><td> 5</td></tr>\n",
              "\t<tr><th scope=row>3</th><td>HOU</td><td>-6</td></tr>\n",
              "\t<tr><th scope=row>4</th><td>HOU</td><td> 8</td></tr>\n",
              "\t<tr><th scope=row>5</th><td>HOU</td><td>23</td></tr>\n",
              "\t<tr><th scope=row>6</th><td>HOU</td><td> 4</td></tr>\n",
              "\t<tr><th scope=row>7</th><td>HOU</td><td> 8</td></tr>\n",
              "\t<tr><th scope=row>8</th><td>HOU</td><td> 2</td></tr>\n",
              "\t<tr><th scope=row>9</th><td>HOU</td><td>-1</td></tr>\n",
              "\t<tr><th scope=row>10</th><td>HOU</td><td>28</td></tr>\n",
              "</tbody>\n",
              "</table>\n"
            ],
            "text/markdown": "\nA data.frame: 10 × 2\n\n| <!--/--> | Origin &lt;chr&gt; | DepDelay &lt;int&gt; |\n|---|---|---|\n| 1 | HOU | 18 |\n| 2 | HOU |  5 |\n| 3 | HOU | -6 |\n| 4 | HOU |  8 |\n| 5 | HOU | 23 |\n| 6 | HOU |  4 |\n| 7 | HOU |  8 |\n| 8 | HOU |  2 |\n| 9 | HOU | -1 |\n| 10 | HOU | 28 |\n\n",
            "text/latex": "A data.frame: 10 × 2\n\\begin{tabular}{r|ll}\n  & Origin & DepDelay\\\\\n  & <chr> & <int>\\\\\n\\hline\n\t1 & HOU & 18\\\\\n\t2 & HOU &  5\\\\\n\t3 & HOU & -6\\\\\n\t4 & HOU &  8\\\\\n\t5 & HOU & 23\\\\\n\t6 & HOU &  4\\\\\n\t7 & HOU &  8\\\\\n\t8 & HOU &  2\\\\\n\t9 & HOU & -1\\\\\n\t10 & HOU & 28\\\\\n\\end{tabular}\n",
            "text/plain": [
              "   Origin DepDelay\n",
              "1  HOU    18      \n",
              "2  HOU     5      \n",
              "3  HOU    -6      \n",
              "4  HOU     8      \n",
              "5  HOU    23      \n",
              "6  HOU     4      \n",
              "7  HOU     8      \n",
              "8  HOU     2      \n",
              "9  HOU    -1      \n",
              "10 HOU    28      "
            ]
          },
          "metadata": {}
        }
      ]
    },
    {
      "cell_type": "markdown",
      "source": [
        "#Com o objetivo de responder qual o aeroporto onde existem mais atrasos, seleciona apenas os códigos dos aeroportos e atrasos, agrupa por aeroportos, soma atrasos, mantém apenas valores únicos, ordena de forma decrescente por atraso e exibe os 10 primeiros resultados"
      ],
      "metadata": {
        "id": "axQFTejy4tVO"
      }
    },
    {
      "cell_type": "code",
      "source": [
        "voos2008 %>%\n",
        "select(Origin,DepDelay) %>%\n",
        "group_by(Origin) %>%\n",
        "mutate(totalAtraso = sum(DepDelay, na.rm = TRUE)) %>%\n",
        "select(Origin,totalAtraso) %>%\n",
        "unique()%>%\n",
        "arrange(desc(totalAtraso)) %>%\n",
        "head(10)"
      ],
      "metadata": {
        "colab": {
          "base_uri": "https://localhost:8080/",
          "height": 412
        },
        "id": "utAbDdl438Rc",
        "outputId": "e8c67581-445b-4133-c074-ff5864a125c7"
      },
      "execution_count": null,
      "outputs": [
        {
          "output_type": "display_data",
          "data": {
            "text/html": [
              "<table class=\"dataframe\">\n",
              "<caption>A grouped_df: 10 × 2</caption>\n",
              "<thead>\n",
              "\t<tr><th scope=col>Origin</th><th scope=col>totalAtraso</th></tr>\n",
              "\t<tr><th scope=col>&lt;chr&gt;</th><th scope=col>&lt;int&gt;</th></tr>\n",
              "</thead>\n",
              "<tbody>\n",
              "\t<tr><td>ORD</td><td>2048013</td></tr>\n",
              "\t<tr><td>ATL</td><td>1365441</td></tr>\n",
              "\t<tr><td>DFW</td><td> 926051</td></tr>\n",
              "\t<tr><td>EWR</td><td> 700200</td></tr>\n",
              "\t<tr><td>DEN</td><td> 660502</td></tr>\n",
              "\t<tr><td>LAX</td><td> 648098</td></tr>\n",
              "\t<tr><td>IAH</td><td> 629610</td></tr>\n",
              "\t<tr><td>LAS</td><td> 623521</td></tr>\n",
              "\t<tr><td>SFO</td><td> 621959</td></tr>\n",
              "\t<tr><td>DTW</td><td> 543871</td></tr>\n",
              "</tbody>\n",
              "</table>\n"
            ],
            "text/markdown": "\nA grouped_df: 10 × 2\n\n| Origin &lt;chr&gt; | totalAtraso &lt;int&gt; |\n|---|---|\n| ORD | 2048013 |\n| ATL | 1365441 |\n| DFW |  926051 |\n| EWR |  700200 |\n| DEN |  660502 |\n| LAX |  648098 |\n| IAH |  629610 |\n| LAS |  623521 |\n| SFO |  621959 |\n| DTW |  543871 |\n\n",
            "text/latex": "A grouped\\_df: 10 × 2\n\\begin{tabular}{ll}\n Origin & totalAtraso\\\\\n <chr> & <int>\\\\\n\\hline\n\t ORD & 2048013\\\\\n\t ATL & 1365441\\\\\n\t DFW &  926051\\\\\n\t EWR &  700200\\\\\n\t DEN &  660502\\\\\n\t LAX &  648098\\\\\n\t IAH &  629610\\\\\n\t LAS &  623521\\\\\n\t SFO &  621959\\\\\n\t DTW &  543871\\\\\n\\end{tabular}\n",
            "text/plain": [
              "   Origin totalAtraso\n",
              "1  ORD    2048013    \n",
              "2  ATL    1365441    \n",
              "3  DFW     926051    \n",
              "4  EWR     700200    \n",
              "5  DEN     660502    \n",
              "6  LAX     648098    \n",
              "7  IAH     629610    \n",
              "8  LAS     623521    \n",
              "9  SFO     621959    \n",
              "10 DTW     543871    "
            ]
          },
          "metadata": {}
        }
      ]
    },
    {
      "cell_type": "markdown",
      "source": [
        "#Filtra voos cancelados, os agrupa e soma por motivo do cancelamento"
      ],
      "metadata": {
        "id": "yk4AMq055tyH"
      }
    },
    {
      "cell_type": "code",
      "source": [
        "voosCancelados = voos2008 %>%\n",
        "select(Cancelled, CancellationCode) %>%\n",
        "filter(Cancelled == 1) %>%\n",
        "group_by(CancellationCode) %>%\n",
        "mutate(totalAtraso = sum(Cancelled)) %>%\n",
        "select(CancellationCode, totalAtraso) %>%\n",
        "unique() %>%\n",
        "arrange(desc(totalAtraso))\n",
        "\n",
        "head(voosCancelados)"
      ],
      "metadata": {
        "colab": {
          "base_uri": "https://localhost:8080/",
          "height": 224
        },
        "id": "3JlE2sjE5JT8",
        "outputId": "0278070f-c779-42b2-c089-4c32b1cab4af"
      },
      "execution_count": null,
      "outputs": [
        {
          "output_type": "display_data",
          "data": {
            "text/html": [
              "<table class=\"dataframe\">\n",
              "<caption>A grouped_df: 4 × 2</caption>\n",
              "<thead>\n",
              "\t<tr><th scope=col>CancellationCode</th><th scope=col>totalAtraso</th></tr>\n",
              "\t<tr><th scope=col>&lt;chr&gt;</th><th scope=col>&lt;int&gt;</th></tr>\n",
              "</thead>\n",
              "<tbody>\n",
              "\t<tr><td>B</td><td>24298</td></tr>\n",
              "\t<tr><td>A</td><td>19235</td></tr>\n",
              "\t<tr><td>C</td><td>11181</td></tr>\n",
              "\t<tr><td>D</td><td>    6</td></tr>\n",
              "</tbody>\n",
              "</table>\n"
            ],
            "text/markdown": "\nA grouped_df: 4 × 2\n\n| CancellationCode &lt;chr&gt; | totalAtraso &lt;int&gt; |\n|---|---|\n| B | 24298 |\n| A | 19235 |\n| C | 11181 |\n| D |     6 |\n\n",
            "text/latex": "A grouped\\_df: 4 × 2\n\\begin{tabular}{ll}\n CancellationCode & totalAtraso\\\\\n <chr> & <int>\\\\\n\\hline\n\t B & 24298\\\\\n\t A & 19235\\\\\n\t C & 11181\\\\\n\t D &     6\\\\\n\\end{tabular}\n",
            "text/plain": [
              "  CancellationCode totalAtraso\n",
              "1 B                24298      \n",
              "2 A                19235      \n",
              "3 C                11181      \n",
              "4 D                    6      "
            ]
          },
          "metadata": {}
        }
      ]
    },
    {
      "cell_type": "markdown",
      "source": [
        "#Cria dataframe associando códigos de cancelamento aos motivos"
      ],
      "metadata": {
        "id": "JYbwMXG16h-V"
      }
    },
    {
      "cell_type": "code",
      "source": [
        "codigoCancelamento = c(\"A\", \"B\", \"C\", \"D\")\n",
        "descricaoCancelamento = c(\"Operadora\", \"Clima\", \"NAS\", \"Segurança\")\n",
        "\n",
        "tiposOcorrencias = data.frame(Codigo = codigoCancelamento, Descricao = descricaoCancelamento)\n",
        "\n",
        "head(tiposOcorrencias)"
      ],
      "metadata": {
        "colab": {
          "base_uri": "https://localhost:8080/",
          "height": 224
        },
        "id": "vPSup2zH5-hV",
        "outputId": "6217f864-da22-4898-823e-bf0732822f1a"
      },
      "execution_count": null,
      "outputs": [
        {
          "output_type": "display_data",
          "data": {
            "text/html": [
              "<table class=\"dataframe\">\n",
              "<caption>A data.frame: 4 × 2</caption>\n",
              "<thead>\n",
              "\t<tr><th></th><th scope=col>Codigo</th><th scope=col>Descricao</th></tr>\n",
              "\t<tr><th></th><th scope=col>&lt;chr&gt;</th><th scope=col>&lt;chr&gt;</th></tr>\n",
              "</thead>\n",
              "<tbody>\n",
              "\t<tr><th scope=row>1</th><td>A</td><td>Operadora</td></tr>\n",
              "\t<tr><th scope=row>2</th><td>B</td><td>Clima    </td></tr>\n",
              "\t<tr><th scope=row>3</th><td>C</td><td>NAS      </td></tr>\n",
              "\t<tr><th scope=row>4</th><td>D</td><td>Segurança</td></tr>\n",
              "</tbody>\n",
              "</table>\n"
            ],
            "text/markdown": "\nA data.frame: 4 × 2\n\n| <!--/--> | Codigo &lt;chr&gt; | Descricao &lt;chr&gt; |\n|---|---|---|\n| 1 | A | Operadora |\n| 2 | B | Clima     |\n| 3 | C | NAS       |\n| 4 | D | Segurança |\n\n",
            "text/latex": "A data.frame: 4 × 2\n\\begin{tabular}{r|ll}\n  & Codigo & Descricao\\\\\n  & <chr> & <chr>\\\\\n\\hline\n\t1 & A & Operadora\\\\\n\t2 & B & Clima    \\\\\n\t3 & C & NAS      \\\\\n\t4 & D & Segurança\\\\\n\\end{tabular}\n",
            "text/plain": [
              "  Codigo Descricao\n",
              "1 A      Operadora\n",
              "2 B      Clima    \n",
              "3 C      NAS      \n",
              "4 D      Segurança"
            ]
          },
          "metadata": {}
        }
      ]
    },
    {
      "cell_type": "markdown",
      "source": [
        "#Realiza inner join entre dataframe de códigos de cancelamento e novo dataframe criado com os motivos de cancelamento, usando como chave o código"
      ],
      "metadata": {
        "id": "exbeExBq66Ra"
      }
    },
    {
      "cell_type": "code",
      "source": [
        "inner_join(x = voosCancelados,y = tiposOcorrencias, by = c(\"CancellationCode\" = \"Codigo\"))"
      ],
      "metadata": {
        "colab": {
          "base_uri": "https://localhost:8080/",
          "height": 224
        },
        "id": "rYFUliSb6sTE",
        "outputId": "3c8ac519-83df-4426-a398-029f2af78c06"
      },
      "execution_count": null,
      "outputs": [
        {
          "output_type": "display_data",
          "data": {
            "text/html": [
              "<table class=\"dataframe\">\n",
              "<caption>A grouped_df: 4 × 3</caption>\n",
              "<thead>\n",
              "\t<tr><th scope=col>CancellationCode</th><th scope=col>totalAtraso</th><th scope=col>Descricao</th></tr>\n",
              "\t<tr><th scope=col>&lt;chr&gt;</th><th scope=col>&lt;int&gt;</th><th scope=col>&lt;chr&gt;</th></tr>\n",
              "</thead>\n",
              "<tbody>\n",
              "\t<tr><td>B</td><td>24298</td><td>Clima    </td></tr>\n",
              "\t<tr><td>A</td><td>19235</td><td>Operadora</td></tr>\n",
              "\t<tr><td>C</td><td>11181</td><td>NAS      </td></tr>\n",
              "\t<tr><td>D</td><td>    6</td><td>Segurança</td></tr>\n",
              "</tbody>\n",
              "</table>\n"
            ],
            "text/markdown": "\nA grouped_df: 4 × 3\n\n| CancellationCode &lt;chr&gt; | totalAtraso &lt;int&gt; | Descricao &lt;chr&gt; |\n|---|---|---|\n| B | 24298 | Clima     |\n| A | 19235 | Operadora |\n| C | 11181 | NAS       |\n| D |     6 | Segurança |\n\n",
            "text/latex": "A grouped\\_df: 4 × 3\n\\begin{tabular}{lll}\n CancellationCode & totalAtraso & Descricao\\\\\n <chr> & <int> & <chr>\\\\\n\\hline\n\t B & 24298 & Clima    \\\\\n\t A & 19235 & Operadora\\\\\n\t C & 11181 & NAS      \\\\\n\t D &     6 & Segurança\\\\\n\\end{tabular}\n",
            "text/plain": [
              "  CancellationCode totalAtraso Descricao\n",
              "1 B                24298       Clima    \n",
              "2 A                19235       Operadora\n",
              "3 C                11181       NAS      \n",
              "4 D                    6       Segurança"
            ]
          },
          "metadata": {}
        }
      ]
    }
  ]
}