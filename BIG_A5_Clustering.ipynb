{
  "nbformat": 4,
  "nbformat_minor": 0,
  "metadata": {
    "kernelspec": {
      "display_name": "Python 3",
      "language": "python",
      "name": "python3"
    },
    "language_info": {
      "codemirror_mode": {
        "name": "ipython",
        "version": 3
      },
      "file_extension": ".py",
      "mimetype": "text/x-python",
      "name": "python",
      "nbconvert_exporter": "python",
      "pygments_lexer": "ipython3",
      "version": "3.7.4"
    },
    "colab": {
      "name": "BIG_A5_Clustering.ipynb",
      "provenance": [],
      "include_colab_link": true
    }
  },
  "cells": [
    {
      "cell_type": "markdown",
      "metadata": {
        "id": "view-in-github",
        "colab_type": "text"
      },
      "source": [
        "<a href=\"https://colab.research.google.com/github/michellamello/mackenzie/blob/main/BIG_A5_Clustering.ipynb\" target=\"_parent\"><img src=\"https://colab.research.google.com/assets/colab-badge.svg\" alt=\"Open In Colab\"/></a>"
      ]
    },
    {
      "cell_type": "markdown",
      "metadata": {
        "id": "GXIqdLo14wj3"
      },
      "source": [
        "<head>\n",
        "  <meta name=\"author\" content=\"Rogério de Oliveira\">\n",
        "  <meta institution=\"author\" content=\"Universidade Presbiteriana Mackenzie\">\n",
        "</head>\n",
        "\n",
        "<img src=\"http://meusite.mackenzie.br/rogerio/mackenzie_logo/UPM.2_horizontal_vermelho.jpg\" width=300, align=\"right\">\n",
        "<!-- <h1 align=left><font size = 6, style=\"color:rgb(200,0,0)\"> optional title </font></h1> -->\n"
      ]
    },
    {
      "cell_type": "markdown",
      "metadata": {
        "id": "zQX8WQPeHTwc"
      },
      "source": [
        "# **Tarefa de Aprofundamento 5** \n",
        "## CASO: Clustering, Segmentando Países pela Força de Trabalho \n",
        "---\n",
        "<br>\n",
        "<br>\n",
        "\n",
        "\n",
        "\n"
      ]
    },
    {
      "cell_type": "markdown",
      "metadata": {
        "id": "Py6w383Wz2xs"
      },
      "source": [
        "A partir deste notebook você vai criar modelos de clusterização para os países com base em suas características de força de trabalho. \n",
        "\n",
        "Em seguida, com base nos seus resultados, responda o **questionário do Moodle**. "
      ]
    },
    {
      "cell_type": "markdown",
      "metadata": {
        "id": "nGZH-j05q8WZ"
      },
      "source": [
        "# Basic imports"
      ]
    },
    {
      "cell_type": "code",
      "metadata": {
        "id": "T6FFPMh10lvO"
      },
      "source": [
        "import numpy as np\n",
        "import pandas as pd\n",
        "import matplotlib.pyplot as plt\n",
        "%matplotlib inline\n",
        "import seaborn as sns"
      ],
      "execution_count": null,
      "outputs": []
    },
    {
      "cell_type": "markdown",
      "metadata": {
        "id": "wF7X-vnhW3OJ"
      },
      "source": [
        "# Exploração dos Dados\n",
        "\n"
      ]
    },
    {
      "cell_type": "markdown",
      "metadata": {
        "id": "pfByZcOTDFDL"
      },
      "source": [
        "Esta base de dados contém a percentagem da população empregada em diferentes indústrias em 26 países europeus em 1979. \n",
        "\n",
        "- Country - o nome do país (identificador)\n",
        "- Agr -% da força de trabalho empregada na agricultura\n",
        "- Min -% na mineração\n",
        "- Man -% na fabricação\n",
        "- PS -% nas indústrias de fornecimento de energia\n",
        "- Con - % em construção\n",
        "- SI -% nas indústrias de serviços\n",
        "- Fin -% em finanças\n",
        "- SPS -% em serviços sociais e pessoais\n",
        "- TC -% em transporte e comunicações\n",
        "\n",
        "Fonte: https://statsandr.com/ \n",
        "\n",
        "**Objetivo:** Segmentar os países em grupos para aplicação de diferentes políticas públicas empregando Clusterização."
      ]
    },
    {
      "cell_type": "code",
      "metadata": {
        "colab": {
          "base_uri": "https://localhost:8080/",
          "height": 206
        },
        "id": "P6IHT8bPSDS8",
        "outputId": "8a51f58f-4071-4666-9f9f-e06896d017bc"
      },
      "source": [
        "df = pd.read_csv('http://meusite.mackenzie.br/rogerio/data_load/Eurojobs.csv')\n",
        "df.head()"
      ],
      "execution_count": null,
      "outputs": [
        {
          "output_type": "execute_result",
          "data": {
            "text/html": [
              "<div>\n",
              "<style scoped>\n",
              "    .dataframe tbody tr th:only-of-type {\n",
              "        vertical-align: middle;\n",
              "    }\n",
              "\n",
              "    .dataframe tbody tr th {\n",
              "        vertical-align: top;\n",
              "    }\n",
              "\n",
              "    .dataframe thead th {\n",
              "        text-align: right;\n",
              "    }\n",
              "</style>\n",
              "<table border=\"1\" class=\"dataframe\">\n",
              "  <thead>\n",
              "    <tr style=\"text-align: right;\">\n",
              "      <th></th>\n",
              "      <th>Country</th>\n",
              "      <th>Agr</th>\n",
              "      <th>Min</th>\n",
              "      <th>Man</th>\n",
              "      <th>PS</th>\n",
              "      <th>Con</th>\n",
              "      <th>SI</th>\n",
              "      <th>Fin</th>\n",
              "      <th>SPS</th>\n",
              "      <th>TC</th>\n",
              "    </tr>\n",
              "  </thead>\n",
              "  <tbody>\n",
              "    <tr>\n",
              "      <th>0</th>\n",
              "      <td>Belgium</td>\n",
              "      <td>3.3</td>\n",
              "      <td>0.9</td>\n",
              "      <td>27.6</td>\n",
              "      <td>0.9</td>\n",
              "      <td>8.2</td>\n",
              "      <td>19.1</td>\n",
              "      <td>6.2</td>\n",
              "      <td>26.6</td>\n",
              "      <td>7.2</td>\n",
              "    </tr>\n",
              "    <tr>\n",
              "      <th>1</th>\n",
              "      <td>Denmark</td>\n",
              "      <td>9.2</td>\n",
              "      <td>0.1</td>\n",
              "      <td>21.8</td>\n",
              "      <td>0.6</td>\n",
              "      <td>8.3</td>\n",
              "      <td>14.6</td>\n",
              "      <td>6.5</td>\n",
              "      <td>32.2</td>\n",
              "      <td>7.1</td>\n",
              "    </tr>\n",
              "    <tr>\n",
              "      <th>2</th>\n",
              "      <td>France</td>\n",
              "      <td>10.8</td>\n",
              "      <td>0.8</td>\n",
              "      <td>27.5</td>\n",
              "      <td>0.9</td>\n",
              "      <td>8.9</td>\n",
              "      <td>16.8</td>\n",
              "      <td>6.0</td>\n",
              "      <td>22.6</td>\n",
              "      <td>5.7</td>\n",
              "    </tr>\n",
              "    <tr>\n",
              "      <th>3</th>\n",
              "      <td>W. Germany</td>\n",
              "      <td>6.7</td>\n",
              "      <td>1.3</td>\n",
              "      <td>35.8</td>\n",
              "      <td>0.9</td>\n",
              "      <td>7.3</td>\n",
              "      <td>14.4</td>\n",
              "      <td>5.0</td>\n",
              "      <td>22.3</td>\n",
              "      <td>6.1</td>\n",
              "    </tr>\n",
              "    <tr>\n",
              "      <th>4</th>\n",
              "      <td>Ireland</td>\n",
              "      <td>23.2</td>\n",
              "      <td>1.0</td>\n",
              "      <td>20.7</td>\n",
              "      <td>1.3</td>\n",
              "      <td>7.5</td>\n",
              "      <td>16.8</td>\n",
              "      <td>2.8</td>\n",
              "      <td>20.8</td>\n",
              "      <td>6.1</td>\n",
              "    </tr>\n",
              "  </tbody>\n",
              "</table>\n",
              "</div>"
            ],
            "text/plain": [
              "      Country   Agr  Min   Man   PS  Con    SI  Fin   SPS   TC\n",
              "0     Belgium   3.3  0.9  27.6  0.9  8.2  19.1  6.2  26.6  7.2\n",
              "1     Denmark   9.2  0.1  21.8  0.6  8.3  14.6  6.5  32.2  7.1\n",
              "2      France  10.8  0.8  27.5  0.9  8.9  16.8  6.0  22.6  5.7\n",
              "3  W. Germany   6.7  1.3  35.8  0.9  7.3  14.4  5.0  22.3  6.1\n",
              "4     Ireland  23.2  1.0  20.7  1.3  7.5  16.8  2.8  20.8  6.1"
            ]
          },
          "metadata": {},
          "execution_count": 23
        }
      ]
    },
    {
      "cell_type": "markdown",
      "metadata": {
        "id": "1f8-sl3PYF3i"
      },
      "source": [
        "## Inspecione os dados"
      ]
    },
    {
      "cell_type": "code",
      "metadata": {
        "id": "b9pggocxSZUD"
      },
      "source": [
        "# seu código"
      ],
      "execution_count": null,
      "outputs": []
    },
    {
      "cell_type": "markdown",
      "metadata": {
        "id": "qJUllMOaXMHp"
      },
      "source": [
        "## Preparação dos dados\n",
        "\n",
        "Normalize os dados o `StandardScaler` (melhor) ou a função `scale`.\n",
        "\n",
        "$$ z_i = \\frac{x_i - \\bar{x}}{\\sigma(x)}$$\n",
        "\n",
        "E não esqueça de excluir dados não úteis ao treinamento. Depois de normalizar os dados os valores devem apresentar média próxima de 0 e desvio padrão próximo de 1."
      ]
    },
    {
      "cell_type": "code",
      "metadata": {
        "id": "Vl2mpSUUTgwS"
      },
      "source": [
        "# seu código"
      ],
      "execution_count": null,
      "outputs": []
    },
    {
      "cell_type": "markdown",
      "metadata": {
        "id": "379oIRQiYY2C"
      },
      "source": [
        "## Número de Clusters\n",
        "\n",
        "(Moodle) **Q1**. Qual o melhor número de clusters pela *regra do cotovelo* e pelo valor médio de silhueta aplicanaod o `kmedias`? (verifique de 2 a 10 clusters)\n",
        "\n",
        "> Empregue `random_state= 1234` no `KMeans`. Não empregue outros parâmetros não solicitados.   \n",
        "\n"
      ]
    },
    {
      "cell_type": "code",
      "metadata": {
        "id": "h07ThSkD843k"
      },
      "source": [
        "# seu código"
      ],
      "execution_count": null,
      "outputs": []
    },
    {
      "cell_type": "code",
      "metadata": {
        "id": "tL_XAAn-75yV"
      },
      "source": [
        "# seu código"
      ],
      "execution_count": null,
      "outputs": []
    },
    {
      "cell_type": "markdown",
      "metadata": {
        "id": "sCsvMhyq8OR8"
      },
      "source": [
        "(Moodle) **Q2**. Qual ao valor médio de silhueta para o melhor número de clusters na clusterização hierárquica (aglomerativa) para os esquemas de ligação (*linkage*) `ward` (padrão do `scikit-learn`),`complete` e `single`? (verifique de 2 a 10 clusters)\n",
        "\n",
        "> Não empregue outros parâmetros não solicitados. "
      ]
    },
    {
      "cell_type": "code",
      "metadata": {
        "id": "eMaTPiZbUjVW"
      },
      "source": [
        "# seu código"
      ],
      "execution_count": null,
      "outputs": []
    },
    {
      "cell_type": "markdown",
      "metadata": {
        "id": "IseBYJx1aCxl"
      },
      "source": [
        "## Clusterização, 3 Clusters\n",
        "\n",
        "O número de clusters não segue um único critério e normalmente é feita uma análise conjunta de várias métricas. Métodos não supervisionados são analíticos e é esperado que você analise as mátricas e resultados para uma *solução*. \n",
        "\n",
        "(Moodle) **Q3**. Verifique a *distribuição* da quantidade de elementos no modelo que fornece o melhor número de silhueta. Qual é essa distribuição e responda se essa é uma clusterização útil e adequada.\n",
        "\n",
        "> Note, por exemplo a distribuição de 100, 43, 8 para 3 grupos é uma distribuição melhor que 100, 50, 1 e podemos considerar neste último caso que o grupo com 1 elemento é um *outlier*.\n",
        "\n"
      ]
    },
    {
      "cell_type": "code",
      "metadata": {
        "id": "En8ho00M9iq1"
      },
      "source": [
        "# seu código"
      ],
      "execution_count": null,
      "outputs": []
    },
    {
      "cell_type": "code",
      "metadata": {
        "id": "Ek6FbyNW9mwE"
      },
      "source": [
        "# seu código"
      ],
      "execution_count": null,
      "outputs": []
    },
    {
      "cell_type": "markdown",
      "metadata": {
        "id": "o2JAOE04-i2M"
      },
      "source": [
        "## Clusterização `Kmeans`,  $K=3$.\n",
        "\n",
        "Vamos considerar que nossa análise ao final leva ao uso do Kmeans para 3 grupos de dados. De fato essa parece ser a melhor opção embora não tenhamos explorado isso aqui. Verique que a distribuição dos dados é de fato melhor e analise para esse modelo os valores médios dos grupos e os países pertencentes a cada grupo.\n",
        "\n",
        "(Moodle) **Q4**. Há um grupo que se caracteriza por um % médio maior da força de trabalho empregada na agricultura. Qual esse percentual e que países fazem parte dele? \n",
        "\n",
        "(Moodle) **Q5**. Excetuando o grupo o com % médio maior da força de trabalho empregada na agricultura e esse indicador, o que mais se destaca em diferenciar os outros dois grupos?\n",
        "\n",
        "> Empregue `random_state= 1234` no `KMeans`. Não empregue outros parâmetros não solicitados.\n",
        "\n"
      ]
    },
    {
      "cell_type": "code",
      "metadata": {
        "id": "Smgi9ZPaea0q"
      },
      "source": [
        "# seu código"
      ],
      "execution_count": null,
      "outputs": []
    },
    {
      "cell_type": "code",
      "metadata": {
        "id": "B0GCFnpu-Lqc"
      },
      "source": [
        "# seu código"
      ],
      "execution_count": null,
      "outputs": []
    },
    {
      "cell_type": "code",
      "metadata": {
        "id": "NYyTx8dP-OXc"
      },
      "source": [
        "# seu código"
      ],
      "execution_count": null,
      "outputs": []
    }
  ]
}